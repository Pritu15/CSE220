{
 "cells": [
  {
   "cell_type": "code",
   "execution_count": 1,
   "metadata": {},
   "outputs": [],
   "source": [
    "import numpy as np"
   ]
  },
  {
   "cell_type": "code",
   "execution_count": 3,
   "metadata": {},
   "outputs": [],
   "source": [
    "taxi=np.genfromtxt('nyc_taxis.csv',delimiter=',',skip_header=True)\n",
    "knk"
   ]
  },
  {
   "cell_type": "markdown",
   "metadata": {},
   "source": []
  },
  {
   "cell_type": "code",
   "execution_count": 5,
   "metadata": {},
   "outputs": [],
   "source": [
    "speed=taxi[:,7]/(taxi[:, 8]/3600)"
   ]
  },
  {
   "cell_type": "code",
   "execution_count": 7,
   "metadata": {},
   "outputs": [
    {
     "name": "stdout",
     "output_type": "stream",
     "text": [
      "32.24258580925573\n"
     ]
    }
   ],
   "source": [
    "mean_speed=speed.mean()\n",
    "print(mean_speed)"
   ]
  },
  {
   "cell_type": "code",
   "execution_count": 10,
   "metadata": {},
   "outputs": [
    {
     "name": "stdout",
     "output_type": "stream",
     "text": [
      "13333\n"
     ]
    }
   ],
   "source": [
    "rides_feb=taxi[taxi[:,1]==2,1]\n",
    "print(rides_feb.shape[0])"
   ]
  },
  {
   "cell_type": "code",
   "execution_count": 15,
   "metadata": {},
   "outputs": [
    {
     "name": "stdout",
     "output_type": "stream",
     "text": [
      "16\n"
     ]
    }
   ],
   "source": [
    "tips=taxi[taxi[:,12]>50,12]\n",
    "print(tips.shape[0])"
   ]
  },
  {
   "cell_type": "code",
   "execution_count": 17,
   "metadata": {},
   "outputs": [
    {
     "name": "stdout",
     "output_type": "stream",
     "text": [
      "11832\n"
     ]
    }
   ],
   "source": [
    "drops_JFK=taxi[taxi[:,6]==2,6]\n",
    "print(drops_JFK.shape[0])"
   ]
  },
  {
   "cell_type": "code",
   "execution_count": 33,
   "metadata": {},
   "outputs": [
    {
     "name": "stdout",
     "output_type": "stream",
     "text": [
      "9\n",
      "11\n",
      "13\n",
      "15\n",
      "[0.  0.  0.  0.  0.5 0.  2.  0.  1.  0.  0.5 0.  1.  0.  0.  0.  0. ]\n"
     ]
    }
   ],
   "source": [
    "import numpy as np\n",
    "\n",
    "# Define the input array\n",
    "x = np.array([0, 0, 0, 0, 0, 0,0.5, 2, 1, 0.5, 1, 0, 0, 0, 0, 0, 0])\n",
    "p = np.zeros(len(x))  # Initialize an array to store the result\n",
    "np.copyto(p, x)  # Copy x into p\n",
    "\n",
    "k = 1 / 2  # Scaling factor\n",
    "mid = len(p) // 2  # Middle index\n",
    "\n",
    "for i in range(mid):\n",
    "    # Compute the new index based on scaling\n",
    "    if (mid-i)%(1/k)==0:\n",
    "       new_index = mid-(int((mid - i) * k))\n",
    "       p[i] = x[new_index] \n",
    "    else:\n",
    "        p[i] = 0  # Set to 0 if the index is out of bounds\n",
    "        # print(i)\n",
    "for i in range(mid+1,len(x)):\n",
    "    if (i-mid)%(1/k)==0:\n",
    "       new_index = mid+(int((i-mid) * k))\n",
    "       if new_index<len(x):\n",
    "         p[i] = x[new_index]\n",
    "       else:\n",
    "           p[i]=0 \n",
    "    else:\n",
    "        p[i] = 0  # Set to 0 if the index is out of bounds\n",
    "        print(i)\n",
    "           \n",
    "\n",
    "print(p)\n"
   ]
  }
 ],
 "metadata": {
  "kernelspec": {
   "display_name": "Python 3",
   "language": "python",
   "name": "python3"
  },
  "language_info": {
   "codemirror_mode": {
    "name": "ipython",
    "version": 3
   },
   "file_extension": ".py",
   "mimetype": "text/x-python",
   "name": "python",
   "nbconvert_exporter": "python",
   "pygments_lexer": "ipython3",
   "version": "3.12.3"
  }
 },
 "nbformat": 4,
 "nbformat_minor": 2
}
