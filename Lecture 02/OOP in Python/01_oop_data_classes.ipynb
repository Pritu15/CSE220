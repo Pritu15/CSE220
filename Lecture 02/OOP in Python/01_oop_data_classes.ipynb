{
 "cells": [
  {
   "cell_type": "code",
   "execution_count": 3,
   "metadata": {},
   "outputs": [
    {
     "name": "stdout",
     "output_type": "stream",
     "text": [
      "Alan Walker\n",
      "30\n",
      "Bob Finnish\n",
      "Alan Walker is 30 years old. 2\n",
      "Alan Walker - 30 years\n"
     ]
    },
    {
     "data": {
      "text/plain": [
       "this is a mathematical representation"
      ]
     },
     "execution_count": 3,
     "metadata": {},
     "output_type": "execute_result"
    }
   ],
   "source": [
    "class Employee:\n",
    "    count=0 #class attribute\n",
    "    #Constructor\n",
    "    #dunder init\n",
    "    def __init__(self,name,age):\n",
    "        self.name=name\n",
    "        self.age=age\n",
    "        Employee.count+=1\n",
    "        \n",
    "    def getDetails(self):\n",
    "        print(f\"{self.name} is {self.age} years old. {Employee.count}\")\n",
    "        #dunder str\n",
    "    def __str__(self):\n",
    "        return f\"{self.name} - {self.age} years\"\n",
    "    def __repr__(self):\n",
    "        return \"this is a mathematical representation\"\n",
    "    \n",
    "    \n",
    "            \n",
    "alan=Employee(\"Alan Walker\",30)\n",
    "bob=Employee(\"Bob Finnish\",23)\n",
    "print(alan.name)\n",
    "print(alan.age)\n",
    "print(bob.name)\n",
    "alan.getDetails()\n",
    "print(alan)\n",
    "alan"
   ]
  },
  {
   "cell_type": "code",
   "execution_count": 1,
   "metadata": {},
   "outputs": [
    {
     "name": "stdout",
     "output_type": "stream",
     "text": [
      "Hello world Tom-- 30\n"
     ]
    }
   ],
   "source": [
    "a=\"Tom\"\n",
    "b=20\n",
    "c=f\"Hello world {a}-- {b+10}\"\n",
    "print(c)"
   ]
  },
  {
   "cell_type": "code",
   "execution_count": null,
   "metadata": {},
   "outputs": [],
   "source": []
  }
 ],
 "metadata": {
  "kernelspec": {
   "display_name": "Python 3",
   "language": "python",
   "name": "python3"
  },
  "language_info": {
   "codemirror_mode": {
    "name": "ipython",
    "version": 3
   },
   "file_extension": ".py",
   "mimetype": "text/x-python",
   "name": "python",
   "nbconvert_exporter": "python",
   "pygments_lexer": "ipython3",
   "version": "3.12.3"
  }
 },
 "nbformat": 4,
 "nbformat_minor": 2
}
