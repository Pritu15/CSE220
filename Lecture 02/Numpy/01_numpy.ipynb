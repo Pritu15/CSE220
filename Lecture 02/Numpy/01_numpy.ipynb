{
 "cells": [
  {
   "cell_type": "code",
   "execution_count": 5,
   "metadata": {},
   "outputs": [],
   "source": [
    "import numpy as np"
   ]
  },
  {
   "cell_type": "code",
   "execution_count": 13,
   "metadata": {},
   "outputs": [
    {
     "name": "stdout",
     "output_type": "stream",
     "text": [
      "[1 3 2] [1, 3, 2]\n",
      "[6 3 2 4 5]\n",
      "[1, 3, 2, 4, 5]\n",
      "[2 4 5]\n"
     ]
    }
   ],
   "source": [
    "#Mutable\n",
    "a=np.array([1,3,2,4,5])\n",
    "b=[1,3,2,4,5]\n",
    "b[2:5]\n",
    "x=a[0:3] #x is VIEW of a\n",
    "y=b[0:3]\n",
    "print(x,y)\n",
    "x[0]=6\n",
    "y[0]=14\n",
    "print(a)\n",
    "print(b)\n",
    "print(a[2:5])"
   ]
  },
  {
   "cell_type": "code",
   "execution_count": 109,
   "metadata": {},
   "outputs": [
    {
     "name": "stdout",
     "output_type": "stream",
     "text": [
      "[[1 2]\n",
      " [3 4]\n",
      " [5 6]]\n",
      "2\n",
      "(3, 2)\n",
      "6\n",
      "int64\n"
     ]
    }
   ],
   "source": [
    "mat=np.array([[1,2],[3,4],[5,6]])\n",
    "print(mat)\n",
    "print(mat.ndim) #no of dimensions\n",
    "print(mat.shape) #(rowa,cols)\n",
    "print(mat.size) #how many items\n",
    "print(mat.dtype)#datatypes"
   ]
  },
  {
   "cell_type": "code",
   "execution_count": 19,
   "metadata": {},
   "outputs": [
    {
     "name": "stdout",
     "output_type": "stream",
     "text": [
      "7598347593798376037986525771578252416511229467310373611285753577324738024472589\n"
     ]
    }
   ],
   "source": [
    "a=100398938385838378937573739737837893783787478749827493749742742\n",
    "b=7598347593798375937587587385739873478937489729472479827498274827497244274729847\n",
    "print(a+b)"
   ]
  },
  {
   "cell_type": "code",
   "execution_count": 21,
   "metadata": {},
   "outputs": [
    {
     "data": {
      "text/plain": [
       "array([0., 0., 0., 0.])"
      ]
     },
     "execution_count": 21,
     "metadata": {},
     "output_type": "execute_result"
    }
   ],
   "source": [
    "a=np.zeros(4)#an array of length 4 consisting all zeros\n",
    "a"
   ]
  },
  {
   "cell_type": "code",
   "execution_count": 26,
   "metadata": {},
   "outputs": [
    {
     "name": "stdout",
     "output_type": "stream",
     "text": [
      "float64\n"
     ]
    },
    {
     "data": {
      "text/plain": [
       "array([1., 1., 1., 1.])"
      ]
     },
     "execution_count": 26,
     "metadata": {},
     "output_type": "execute_result"
    }
   ],
   "source": [
    "a=np.ones(4)\n",
    "print(a.dtype)\n",
    "a"
   ]
  },
  {
   "cell_type": "code",
   "execution_count": 27,
   "metadata": {},
   "outputs": [
    {
     "name": "stdout",
     "output_type": "stream",
     "text": [
      "float64\n"
     ]
    },
    {
     "data": {
      "text/plain": [
       "array([6.95235713e-310, 1.44064220e-311, 1.44066246e-311, 0.00000000e+000,\n",
       "       0.00000000e+000, 0.00000000e+000, 0.00000000e+000, 0.00000000e+000,\n",
       "       0.00000000e+000, 0.00000000e+000])"
      ]
     },
     "execution_count": 27,
     "metadata": {},
     "output_type": "execute_result"
    }
   ],
   "source": [
    "a=np.empty(10)\n",
    "print(a.dtype)\n",
    "a"
   ]
  },
  {
   "cell_type": "code",
   "execution_count": 34,
   "metadata": {},
   "outputs": [
    {
     "name": "stdout",
     "output_type": "stream",
     "text": [
      "[1 3 5 7 9]\n"
     ]
    },
    {
     "data": {
      "text/plain": [
       "array([1, 3, 5, 7, 9])"
      ]
     },
     "execution_count": 34,
     "metadata": {},
     "output_type": "execute_result"
    }
   ],
   "source": [
    "a=np.arange(1,11,2) ##(start,stop,iteration step)\n",
    "print(a)\n",
    "a"
   ]
  },
  {
   "cell_type": "code",
   "execution_count": 37,
   "metadata": {},
   "outputs": [
    {
     "data": {
      "text/plain": [
       "array([ 1.,  4.,  7., 10.])"
      ]
     },
     "execution_count": 37,
     "metadata": {},
     "output_type": "execute_result"
    }
   ],
   "source": [
    "a=np.linspace(1,10,4,dtype=np.float64)#dividing 1 to 10 in 4 zones\n",
    "a"
   ]
  },
  {
   "cell_type": "code",
   "execution_count": 38,
   "metadata": {},
   "outputs": [
    {
     "data": {
      "text/plain": [
       "array([0.        , 0.33333333, 0.66666667, 1.        ])"
      ]
     },
     "execution_count": 38,
     "metadata": {},
     "output_type": "execute_result"
    }
   ],
   "source": [
    "a=np.linspace(0,1,4,dtype=np.float64)\n",
    "a"
   ]
  },
  {
   "cell_type": "code",
   "execution_count": 44,
   "metadata": {},
   "outputs": [
    {
     "name": "stdout",
     "output_type": "stream",
     "text": [
      "[0.15219913 0.03748949]\n",
      "[[0.78961968 0.70387991 0.13391724]\n",
      " [0.25805584 0.97626536 0.99286385]]\n"
     ]
    }
   ],
   "source": [
    "a=np.random.random(2)\n",
    "print(a)\n",
    "a=np.random.random((2,3))\n",
    "print(a)"
   ]
  },
  {
   "cell_type": "code",
   "execution_count": 50,
   "metadata": {},
   "outputs": [
    {
     "data": {
      "text/plain": [
       "array([0.00110766, 0.16271823, 0.22647075, 0.33498383, 0.40647413,\n",
       "       0.68121769, 0.7648874 , 0.90662388, 0.90993938, 0.98020187])"
      ]
     },
     "execution_count": 50,
     "metadata": {},
     "output_type": "execute_result"
    }
   ],
   "source": [
    "a=np.random.random(10)\n",
    "a.sort() #sorts the original array\n",
    "a\n"
   ]
  },
  {
   "cell_type": "code",
   "execution_count": 49,
   "metadata": {},
   "outputs": [
    {
     "name": "stdout",
     "output_type": "stream",
     "text": [
      "[0.12380363 0.23161413 0.26702879 0.28246471 0.2879012  0.39653713\n",
      " 0.59914016 0.89564446 0.913192   0.96070568]\n",
      "[0.913192   0.28246471 0.39653713 0.59914016 0.23161413 0.2879012\n",
      " 0.96070568 0.12380363 0.89564446 0.26702879]\n"
     ]
    }
   ],
   "source": [
    "a=np.random.random(10)\n",
    "print(np.sort(a))#don't change the actual array \n",
    "print(a)"
   ]
  },
  {
   "cell_type": "code",
   "execution_count": 52,
   "metadata": {},
   "outputs": [
    {
     "data": {
      "text/plain": [
       "[1, 4, 2, 6, 3, 1, 5, 3, 3, 3, 5, 2]"
      ]
     },
     "execution_count": 52,
     "metadata": {},
     "output_type": "execute_result"
    }
   ],
   "source": [
    "a=[1,4,2,6,3,1]\n",
    "b=[5,3,3,3,5,2]\n",
    "c=a+b\n",
    "c"
   ]
  },
  {
   "cell_type": "code",
   "execution_count": 58,
   "metadata": {},
   "outputs": [
    {
     "data": {
      "text/plain": [
       "array([1, 4, 2, 6, 3, 1, 5, 3, 2, 3, 5, 2])"
      ]
     },
     "execution_count": 58,
     "metadata": {},
     "output_type": "execute_result"
    }
   ],
   "source": [
    "a=np.array([1,4,2,6,3,1])\n",
    "b=np.array([5,3,2,3,5,2])\n",
    "c=np.concatenate((a,b))\n",
    "c\n"
   ]
  },
  {
   "cell_type": "code",
   "execution_count": 63,
   "metadata": {},
   "outputs": [
    {
     "name": "stdout",
     "output_type": "stream",
     "text": [
      "[[1 4]\n",
      " [2 6]\n",
      " [3 1]] [[1 2 3]\n",
      " [4 6 1]]\n"
     ]
    }
   ],
   "source": [
    "a=np.array([1,4,2,6,3,1])\n",
    "c=a.reshape(3,2)\n",
    "print(c,c.T)"
   ]
  },
  {
   "cell_type": "code",
   "execution_count": 82,
   "metadata": {},
   "outputs": [
    {
     "name": "stdout",
     "output_type": "stream",
     "text": [
      "[False  True False  True False False]\n",
      "[False False  True False False  True]\n",
      "[4 6]\n",
      "[4 2 6 3]\n",
      "[1 1]\n",
      "[1 2 6 1] [1, 2, 6, 1]\n"
     ]
    }
   ],
   "source": [
    "a=np.array([1,4,2,6,3,1])\n",
    "b=np.array([5,3,2,3,5,2])\n",
    "#return a array with true/false\n",
    "#true when item is greater than 3\n",
    "#false otherwise\n",
    "boolean_arr=a>3\n",
    "print(boolean_arr)\n",
    "print(b<3)\n",
    "print(a[boolean_arr])\n",
    "a[[True,False,True,False,True,False]]\n",
    "print(a[a>1])\n",
    "print(a[a==1])\n",
    "x=a[(a>5)|(a<3)]\n",
    "\n",
    "#in python which is slower than numpy\n",
    "y=[]\n",
    "for i in a:\n",
    "    if(i>5 or i<3):\n",
    "        y.append(int(i))\n",
    "print(x,y)\n",
    "    \n"
   ]
  },
  {
   "cell_type": "code",
   "execution_count": 84,
   "metadata": {},
   "outputs": [
    {
     "name": "stdout",
     "output_type": "stream",
     "text": [
      "[[1 2]\n",
      " [2 2]\n",
      " [3 3]\n",
      " [4 4]]\n",
      "[[1 2 3 3]\n",
      " [2 2 4 4]]\n"
     ]
    }
   ],
   "source": [
    "#Stacking\n",
    "a1=np.array([[1,2],[2,2]])\n",
    "a2=np.array([[3,3],[4,4]])\n",
    "\n",
    "a3=np.vstack((a1,a2))\n",
    "print(a3)\n",
    "a4=np.hstack((a1,a2))\n",
    "print(a4)\n"
   ]
  },
  {
   "cell_type": "code",
   "execution_count": 99,
   "metadata": {},
   "outputs": [
    {
     "name": "stdout",
     "output_type": "stream",
     "text": [
      "[array([1, 4]), array([2, 6]), array([3, 1])]\n",
      "6\n",
      "6\n",
      "[5 4 2 6 5 2]\n",
      "[6 5]\n"
     ]
    }
   ],
   "source": [
    "a=np.array([1,4,2,6,3,1])\n",
    "b=np.array([5,3,2,3,5,2])\n",
    "a1=np.hsplit(a,3)\n",
    "print(a1)\n",
    "a+b #dimension same \n",
    "a+2 #called broadcasting\n",
    "print(a.max())\n",
    "a/a.max()\n",
    "c=np.vstack((a,b))\n",
    "print(c.max())\n",
    "print(c.max(axis=0))\n",
    "print(c.max(axis=1))"
   ]
  },
  {
   "cell_type": "code",
   "execution_count": 104,
   "metadata": {},
   "outputs": [
    {
     "name": "stdout",
     "output_type": "stream",
     "text": [
      "[[1 2]\n",
      " [3 4]\n",
      " [5 6]]\n",
      "(3, 2)\n",
      "(1, 2)\n",
      "[[2 4]\n",
      " [4 6]\n",
      " [6 8]]\n"
     ]
    }
   ],
   "source": [
    "a=np.array([[1,2],[3,4],[5,6]])\n",
    "print(a)\n",
    "print(a.shape)\n",
    "b=np.array([[1,2]])\n",
    "print(b.shape)\n",
    "print(a+b)\n"
   ]
  },
  {
   "cell_type": "code",
   "execution_count": 108,
   "metadata": {},
   "outputs": [
    {
     "name": "stdout",
     "output_type": "stream",
     "text": [
      "[11 12 13 14 15 16 17 18 19 20]\n",
      "[3 2 2 2 1 1 1 1 1 1]\n"
     ]
    }
   ],
   "source": [
    "a=np.array([11,11,12,13,14,15,16,17,12,13,11,14,18,19,20])\n",
    "unique_values,occurance_count=np.unique(a,return_counts=True)\n",
    "print(unique_values)\n",
    "print(occurance_count)"
   ]
  },
  {
   "cell_type": "code",
   "execution_count": 114,
   "metadata": {},
   "outputs": [
    {
     "name": "stdout",
     "output_type": "stream",
     "text": [
      "(3, 3)\n",
      "(3, 3)\n",
      "[[ 84  90  96]\n",
      " [201 216 231]\n",
      " [318 342 366]]\n"
     ]
    }
   ],
   "source": [
    "a=np.array([[1,2,3],[4,5,6],[7,8,9]])\n",
    "b=np.array([[10,11,12],[13,14,15],[16,17,18]])\n",
    "print(a.shape)\n",
    "print(b.shape)\n",
    "# a.dot(b)\n",
    "print(np.matmul(a,b))"
   ]
  },
  {
   "cell_type": "code",
   "execution_count": 116,
   "metadata": {},
   "outputs": [
    {
     "name": "stdout",
     "output_type": "stream",
     "text": [
      "[[1 1 1 1 1]\n",
      " [1 0 0 0 1]\n",
      " [1 0 9 0 1]\n",
      " [1 0 0 0 1]\n",
      " [1 1 1 1 1]]\n"
     ]
    }
   ],
   "source": [
    "a=np.array([[1,1,1,1,1],[1,0,0,0,1],[1,0,9,0,1],[1,0,0,0,1],[1,1,1,1,1]])\n",
    "print(a)"
   ]
  },
  {
   "cell_type": "code",
   "execution_count": 125,
   "metadata": {},
   "outputs": [
    {
     "name": "stdout",
     "output_type": "stream",
     "text": [
      "[[1. 1. 1. 1. 1.]\n",
      " [1. 1. 1. 1. 1.]\n",
      " [1. 1. 1. 1. 1.]\n",
      " [1. 1. 1. 1. 1.]\n",
      " [1. 1. 1. 1. 1.]]\n",
      "[[0. 0. 0.]\n",
      " [0. 0. 0.]\n",
      " [0. 0. 0.]]\n",
      "[[0. 0. 0.]\n",
      " [0. 9. 0.]\n",
      " [0. 0. 0.]]\n",
      "[[1. 1. 1. 1. 1.]\n",
      " [1. 0. 0. 0. 1.]\n",
      " [1. 0. 9. 0. 1.]\n",
      " [1. 0. 0. 0. 1.]\n",
      " [1. 1. 1. 1. 1.]]\n"
     ]
    }
   ],
   "source": [
    "output=np.ones((5,5))\n",
    "print(output)\n",
    "z=np.zeros((3,3))\n",
    "print(z)\n",
    "z[1,1]=9\n",
    "print(z)\n",
    "output[1:4,1:4]=z;\n",
    "print(output)"
   ]
  },
  {
   "cell_type": "code",
   "execution_count": null,
   "metadata": {},
   "outputs": [],
   "source": []
  }
 ],
 "metadata": {
  "kernelspec": {
   "display_name": "Python 3",
   "language": "python",
   "name": "python3"
  },
  "language_info": {
   "codemirror_mode": {
    "name": "ipython",
    "version": 3
   },
   "file_extension": ".py",
   "mimetype": "text/x-python",
   "name": "python",
   "nbconvert_exporter": "python",
   "pygments_lexer": "ipython3",
   "version": "3.12.3"
  }
 },
 "nbformat": 4,
 "nbformat_minor": 2
}
