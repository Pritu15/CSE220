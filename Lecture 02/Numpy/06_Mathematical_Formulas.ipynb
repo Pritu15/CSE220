{
 "cells": [
  {
   "cell_type": "code",
   "execution_count": 2,
   "metadata": {},
   "outputs": [],
   "source": [
    "import numpy as np"
   ]
  },
  {
   "cell_type": "code",
   "execution_count": 5,
   "metadata": {},
   "outputs": [
    {
     "data": {
      "text/plain": [
       "0"
      ]
     },
     "execution_count": 5,
     "metadata": {},
     "output_type": "execute_result"
    }
   ],
   "source": [
    "predictions=5\n",
    "label=3\n",
    "n=100\n",
    "ans=(1/n)*np.sum(np.square(predictions-label))\n",
    "int(ans)"
   ]
  },
  {
   "cell_type": "code",
   "execution_count": 7,
   "metadata": {},
   "outputs": [
    {
     "name": "stdout",
     "output_type": "stream",
     "text": [
      "-6.994182811625497\n"
     ]
    }
   ],
   "source": [
    "actual = np.array([4.0, 5.0, 6.0])\n",
    "pred = np.array([3.0, 4.0, 5.0])\n",
    "m = len(actual)\n",
    "ans = (-1/m) * np.sum(actual * np.log(pred))\n",
    "print(ans)\n"
   ]
  },
  {
   "cell_type": "code",
   "execution_count": 8,
   "metadata": {},
   "outputs": [
    {
     "name": "stdout",
     "output_type": "stream",
     "text": [
      "0.09003057317038046\n"
     ]
    }
   ],
   "source": [
    "import numpy as np\n",
    "\n",
    "def softmax_partial(x, i):\n",
    "   exp_i=np.exp(x[i])\n",
    "   exp_j=np.sum(np.exp(x[i:]))\n",
    "   ans=exp_i/exp_j;\n",
    "   return ans\n",
    "# Example usage\n",
    "x = np.array([1.0, 2.0, 3.0, 4.0])\n",
    "i = 1  # For example, calculate softmax from index 1\n",
    "\n",
    "result = softmax_partial(x, i)\n",
    "print(result)\n"
   ]
  }
 ],
 "metadata": {
  "kernelspec": {
   "display_name": "Python 3",
   "language": "python",
   "name": "python3"
  },
  "language_info": {
   "codemirror_mode": {
    "name": "ipython",
    "version": 3
   },
   "file_extension": ".py",
   "mimetype": "text/x-python",
   "name": "python",
   "nbconvert_exporter": "python",
   "pygments_lexer": "ipython3",
   "version": "3.12.3"
  }
 },
 "nbformat": 4,
 "nbformat_minor": 2
}
